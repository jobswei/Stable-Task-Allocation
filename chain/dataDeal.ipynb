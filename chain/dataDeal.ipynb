{
 "cells": [
  {
   "cell_type": "code",
   "execution_count": 15,
   "metadata": {},
   "outputs": [],
   "source": [
    "import pickle\n",
    "import pandas as pd\n",
    "import os\n",
    "import tqdm\n",
    "os.chdir(\"D://About_coding/py/car/chain/data\")\n",
    "class Worker:\n",
    "    def __init__(self, id, x, y):\n",
    "        self.id = id\n",
    "        self.x = x\n",
    "        self.y = y\n",
    "    \n",
    "    def __repr__(self) -> str:\n",
    "        return '({},{})'.format(self.x, self.y)\n",
    "\n",
    "class Task:\n",
    "    def __init__(self, id, x, y, price):\n",
    "        self.id = id\n",
    "        self.x = x\n",
    "        self.y = y\n",
    "        self.price = price\n",
    "def toSeconds(time)->float:\n",
    "    h,m,s = str(time).strip().split(\":\")\n",
    "    return int(h) * 3600 + int(m) * 60 + float(s)\n",
    "def count_unstable(match, tasks, workers):\n",
    "    #原始match: task.id -> worker\n",
    "    #调整match: task.id -> worker.id\n",
    "    match = [w.id for w in match]\n",
    "    w2t = [-1] * len(match)\n",
    "    for t in range(len(tasks)):\n",
    "        w2t[match[t]] = t\n",
    "    count = 0\n",
    "    for t in tqdm.tqdm(range(len(tasks))):\n",
    "        #t和新的w配对判断是否比t和match[t]配对更满意\n",
    "        for w in range(len(workers)):\n",
    "            if (dist(tasks[t], workers[match[t]]) > dist(tasks[t], workers[w])) and (tasks[t].price > tasks[w2t[w]].price):\n",
    "                count += 1\n",
    "                break\n",
    "    return count\n",
    "def dist(worker, task):\n",
    "    r2 = (worker.x - task.x) ** 2 + (worker.y - task.y) ** 2\n",
    "    r = pow(r2, 0.5)\n",
    "    return r\n",
    "def load_dataset(number):\n",
    "    workers = []\n",
    "    tasks = []\n",
    "    idx = 0\n",
    "    with open(\"worker_\" + str(number) + \".txt\", \"r\") as f:\n",
    "        while True:\n",
    "            try:\n",
    "                line = f.readline().split()\n",
    "                w = Worker(idx, float(line[0]), float(line[1]))\n",
    "                workers.append(w)\n",
    "                idx += 1\n",
    "            except:\n",
    "                break\n",
    "    idx = 0\n",
    "    with open(\"task_\" + str(number) + \".txt\", \"r\") as f:\n",
    "        while True:\n",
    "            try:\n",
    "                line = f.readline().split()\n",
    "                t = Task(idx, float(line[0]), float(line[1]), float(line[2]))\n",
    "                tasks.append(t)\n",
    "                idx += 1\n",
    "            except:\n",
    "                break\n",
    "    return tasks, workers\n",
    "def toExcel_percent(datain:list,name:str):\n",
    "    # 创建一个包含数据的DataFrame\n",
    "    data = {'Column1': datain}\n",
    "    df = pd.DataFrame(data)\n",
    "\n",
    "    # 将DataFrame中的值乘以100并转换为百分数格式\n",
    "    df['Column1'] = df['Column1'].apply(lambda x: '{:.2%}'.format(x))\n",
    "\n",
    "    # 将DataFrame写入Excel\n",
    "    writer = pd.ExcelWriter(name, engine='xlsxwriter')\n",
    "    df.to_excel(writer, sheet_name='Sheet1', index=False)\n",
    "    worksheet = writer.sheets['Sheet1']\n",
    "\n",
    "    # 将Excel中的列宽设置为10\n",
    "    worksheet.set_column(0, 0, 10)\n",
    "\n",
    "    # 关闭Excel写入器\n",
    "    writer.save()"
   ]
  },
  {
   "cell_type": "code",
   "execution_count": 11,
   "metadata": {},
   "outputs": [
    {
     "name": "stderr",
     "output_type": "stream",
     "text": [
      "100%|██████████| 1000/1000 [00:01<00:00, 792.72it/s]\n",
      "100%|██████████| 2000/2000 [00:04<00:00, 414.61it/s]\n",
      "100%|██████████| 3000/3000 [00:10<00:00, 283.53it/s]\n",
      "100%|██████████| 4000/4000 [00:18<00:00, 210.94it/s]\n",
      "100%|██████████| 5000/5000 [00:54<00:00, 90.97it/s] \n",
      "100%|██████████| 6000/6000 [01:14<00:00, 80.47it/s] \n",
      "100%|██████████| 7000/7000 [02:06<00:00, 55.30it/s] \n"
     ]
    }
   ],
   "source": [
    "# 计算稳定比例\n",
    "stable_ratio=[]\n",
    "for number in [1000*i for i in range(1,8)]:\n",
    "    tasks, workers = load_dataset(number)\n",
    "    with open(\"result/chain_result_\"+str(number)+\".pkl\",\"rb\") as fp:\n",
    "        match=pickle.load(fp)\n",
    "    cnt = count_unstable(match, tasks, workers)\n",
    "    stable_ratio.append(1-cnt/number)\n",
    "\n",
    "toExcel_percent(stable_ratio,\"result/stable ratio.xlsx\")\n",
    "\n"
   ]
  },
  {
   "cell_type": "code",
   "execution_count": 17,
   "metadata": {},
   "outputs": [],
   "source": [
    "toExcel_percent(stable_ratio,\"result/stable ratio.xlsx\")"
   ]
  },
  {
   "cell_type": "code",
   "execution_count": 12,
   "metadata": {},
   "outputs": [
    {
     "name": "stdout",
     "output_type": "stream",
     "text": [
      "7\n"
     ]
    }
   ],
   "source": [
    "print(len(stable_ratio))"
   ]
  },
  {
   "cell_type": "code",
   "execution_count": 2,
   "metadata": {},
   "outputs": [
    {
     "name": "stdout",
     "output_type": "stream",
     "text": [
      "[3.209686, 12.168009, 26.021081, 45.935317, 75.002442, 148.306781, 176.794411]\n",
      "数据已写入Excel文件\n"
     ]
    }
   ],
   "source": [
    "# 写入excel\n",
    "with open(\"result/chain_time.pkl\",\"rb\") as fp:\n",
    "    Time=pickle.load(fp)\n",
    "Time_inSecond:list=[]\n",
    "for i in Time:\n",
    "    Time_inSecond.append(toSeconds(i))\n",
    "print(Time_inSecond)\n",
    "with open(\"result/chain_time.pkl\",\"wb\") as fp:\n",
    "    pickle.dump(Time_inSecond,fp)\n",
    "\n",
    "\n",
    "with open(\"result/chain_distance.pkl\",\"rb\") as fp:\n",
    "    Distance=pickle.load(fp)\n",
    "with open(\"result/chain_time.pkl\",\"rb\") as fp:\n",
    "    Runtime=pickle.load(fp)\n",
    "\n",
    "# 将数据转换为数据框\n",
    "df = pd.DataFrame(Distance)\n",
    "\n",
    "# 将数据框写入Excel文件\n",
    "writer = pd.ExcelWriter('result/chain_dist.xlsx')\n",
    "df.to_excel(writer,'Sheet1',index=False)\n",
    "writer.save()\n",
    "\n",
    "# 将数据转换为数据框\n",
    "df = pd.DataFrame(Runtime)\n",
    "\n",
    "# 将数据框写入Excel文件\n",
    "writer = pd.ExcelWriter('result/chain_runtime.xlsx')\n",
    "df.to_excel(writer,'Sheet1',index=False)\n",
    "writer.save()\n",
    "\n",
    "print(\"数据已写入Excel文件\")"
   ]
  }
 ],
 "metadata": {
  "kernelspec": {
   "display_name": "Python 3",
   "language": "python",
   "name": "python3"
  },
  "language_info": {
   "codemirror_mode": {
    "name": "ipython",
    "version": 3
   },
   "file_extension": ".py",
   "mimetype": "text/x-python",
   "name": "python",
   "nbconvert_exporter": "python",
   "pygments_lexer": "ipython3",
   "version": "3.8.6"
  },
  "orig_nbformat": 4,
  "vscode": {
   "interpreter": {
    "hash": "865d8b2eb28e274047ba64063dfb6a2aabf0dfec4905d304d7a76618dae6fdd4"
   }
  }
 },
 "nbformat": 4,
 "nbformat_minor": 2
}
