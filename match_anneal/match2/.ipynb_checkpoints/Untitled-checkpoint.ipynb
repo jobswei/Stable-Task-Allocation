{
 "cells": [
  {
   "cell_type": "code",
   "execution_count": 22,
   "id": "af76d244",
   "metadata": {},
   "outputs": [],
   "source": [
    "#!/usr/bin/env python\n",
    "# coding: utf-8\n",
    "from re import match\n",
    "import numpy as np\n",
    "from numpy.random import rand\n",
    "import matplotlib.pyplot as plt\n",
    "import os, sys\n",
    "import random\n",
    "import datetime\n",
    "import tqdm\n",
    "from copy import deepcopy\n",
    "\n",
    "import matplotlib.pyplot as plt"
   ]
  },
  {
   "cell_type": "code",
   "execution_count": 23,
   "id": "ca8f05c2",
   "metadata": {},
   "outputs": [],
   "source": [
    "os.chdir(\"D://academic//match2\")\n",
    "\n",
    "\n",
    "number = 1000\n",
    "\n",
    "dis_cache = None\n",
    "\n",
    "#给乘客和车加各上一个id字段，方便索引和debug\n",
    "class Worker:\n",
    "    def __init__(self, id, x, y):\n",
    "        self.id = id\n",
    "        self.x = x\n",
    "        self.y = y\n",
    "    \n",
    "    def __repr__(self) -> str:\n",
    "        return '({},{})'.format(self.x, self.y)\n",
    "\n",
    "class Task:\n",
    "    def __init__(self, id, x, y, price):\n",
    "        self.id = id\n",
    "        self.x = x\n",
    "        self.y = y\n",
    "        self.price = price\n",
    "\n",
    "    def __repr__(self) -> str:\n",
    "        return '({},{}),{}'.format(self.x, self.y, self.price)\n",
    "\n",
    "class Pair:\n",
    "    def __init__(self, worker, task):\n",
    "        self.worker = worker\n",
    "        self.task = task\n",
    "def dist(worker, task, cache=False):\n",
    "    #空间换时间，理论上basic那次O(N^2)的循环里面这里都算了一遍，后面退火不用再算了\n",
    "    if cache:\n",
    "        r = dis_cache[worker.id][task.id]\n",
    "        if r != -1:\n",
    "            return r\n",
    "    r2 = (worker.x - task.x) ** 2 + (worker.y - task.y) ** 2\n",
    "    r = pow(r2, 0.5)\n",
    "    if cache:\n",
    "        dis_cache[worker.id][task.id] = r\n",
    "    return r"
   ]
  },
  {
   "cell_type": "code",
   "execution_count": 24,
   "id": "731272d7",
   "metadata": {},
   "outputs": [],
   "source": [
    "'''\n",
    "判断配对后的两对是否是不稳定对\n",
    "不稳定的判断条件是同时满足：\n",
    "pair1中的task1，相对于worker1，更喜欢pair2中的worker2，判断依据是worker2比worker1更近\n",
    "pair2中的worker2，相对于task1，更喜欢pair1中的task1，判断依据是task1的price比task2更高\n",
    "\n",
    "反之亦然\n",
    "'''\n",
    "def isUnstablePair(pair1, pair2):\n",
    "    #只判断价钱高的那个task\n",
    "    if pair1.task.price > pair2.task.price:\n",
    "        if dist(pair1.worker, pair1.task) > dist(pair2.worker, pair1.task) and pair1.task.price > pair2.task.price:\n",
    "            return True\n",
    "    else:    \n",
    "        if dist(pair2.worker, pair2.task) > dist(pair1.worker, pair2.task) and pair2.task.price > pair1.task.price:\n",
    "            return True\n",
    "    return False\n",
    "\n",
    "#获取集合中距离某元素最近的一个值\n",
    "def NN(element, set):\n",
    "    y = None\n",
    "    d = 0\n",
    "    for p in set:\n",
    "        d1 = dist(p, element)\n",
    "        if d == 0 or d1 < d:\n",
    "            d = d1\n",
    "            y = p\n",
    "    return y, d\n",
    "\n",
    "#距离<=threshold的出价最高的task\n",
    "def highest(w, tasks, threshold=100):\n",
    "    best_task = None\n",
    "    price, d = 0, 0\n",
    "    for t in tasks:\n",
    "        d1 = dist(t, w)\n",
    "        if d1 <= threshold:\n",
    "            if t.price > price:\n",
    "                best_task = t\n",
    "                price = t.price\n",
    "                d = d1\n",
    "    if best_task == None: #指定距离内无task时，返回最近task\n",
    "        return NN(w, tasks)\n",
    "    return best_task, d"
   ]
  },
  {
   "cell_type": "code",
   "execution_count": null,
   "id": "b9cefb66",
   "metadata": {},
   "outputs": [],
   "source": []
  },
  {
   "cell_type": "code",
   "execution_count": 25,
   "id": "5f3f5196",
   "metadata": {},
   "outputs": [],
   "source": [
    "def basic(number, workers, tasks):\n",
    "    workers_num = len(workers)\n",
    "    tasks_num = len(tasks)\n",
    "\n",
    "    match = []\n",
    "\n",
    "    def price(t):\n",
    "        return t.price\n",
    "\n",
    "    tasks.sort(key = price, reverse = True)\n",
    "    match = [None for i in range(number)]\n",
    "\n",
    "    starttime = datetime.datetime.now()\n",
    "    dis_sum = 0\n",
    "    for t in tqdm.tqdm(tasks):\n",
    "        w_nearest = None\n",
    "        d = 0\n",
    "        for w in workers:\n",
    "            d1 = dist(w, t)\n",
    "            if d == 0 or d1 < d:\n",
    "                d = d1\n",
    "                w_nearest = w\n",
    "        match[t.id] = w_nearest\n",
    "        workers.remove(w_nearest)\n",
    "        dis_sum += d\n",
    "\n",
    "    endtime = datetime.datetime.now()\n",
    "    time_cost = endtime - starttime\n",
    "    print (str(number) + \"个人和车的模拟数据集，传统双层循环配对消耗总时间：\" + str(time_cost) + \"，总距离为：\" + str(dis_sum))    \n",
    "    return match, dis_sum, str(time_cost)"
   ]
  },
  {
   "cell_type": "code",
   "execution_count": 26,
   "id": "907639d7",
   "metadata": {},
   "outputs": [],
   "source": [
    "def count_unstable(match, tasks, workers):\n",
    "    #原始match: task.id -> worker\n",
    "    #调整match: task.id -> worker.id\n",
    "    match = [w.id for w in match]\n",
    "    w2t = [-1] * len(match)\n",
    "    for t in range(len(tasks)):\n",
    "        w2t[match[t]] = t\n",
    "    count = 0\n",
    "    for t in tqdm.tqdm(range(len(tasks))):\n",
    "        #t和新的w配对判断是否比t和match[t]配对更满意\n",
    "        for w in range(len(workers)):\n",
    "            if (dist(tasks[t], workers[match[t]]) > dist(tasks[t], workers[w])) and (tasks[t].price > tasks[w2t[w]].price):\n",
    "                count += 1\n",
    "                break\n",
    "    return count"
   ]
  },
  {
   "cell_type": "code",
   "execution_count": 27,
   "id": "d95925ff",
   "metadata": {},
   "outputs": [],
   "source": [
    "def is_unstable(pair1, pair2):\n",
    "    if dist(pair1.worker, pair1.task) > dist(pair2.worker, pair1.task) and pair1.task.price > pair2.task.price:\n",
    "        return True\n",
    "    if dist(pair2.worker, pair2.task) > dist(pair1.worker, pair2.task) and pair2.task.price > pair1.task.price:\n",
    "        return True\n",
    "    return False"
   ]
  },
  {
   "cell_type": "code",
   "execution_count": 28,
   "id": "c7d4e105",
   "metadata": {},
   "outputs": [],
   "source": [
    "betas = [0.32768,0.49152,0.65536,1.31072,2.62144]\n",
    "# betas=[2,4,8,16,32]\n",
    "def anneal(number, match, workers, tasks, dis_sum_start):\n",
    "    starttime = datetime.datetime.now()\n",
    "#     percent=0.9\n",
    "    H2 = H1 = dis_sum_start\n",
    "    step = 1000000\n",
    "    for i in tqdm.tqdm(range(step)):\n",
    "        beta = betas[i//200000]\n",
    "        t1 = tasks[np.random.randint(0, number)]\n",
    "        t2 = tasks[np.random.randint(0, number)] \n",
    "        w1 = match[t1.id]\n",
    "        w2 = match[t2.id]\n",
    "\n",
    "        #随机交换之后不再满足稳定，直接continue\n",
    "\n",
    "\n",
    "        H2 = H1 - dist(w2, t2) + dist(w2, t1) + dist(w1, t2) - dist(w1, t1)\n",
    "        if H1 - H2 > 0:\n",
    "            if is_unstable(Pair(w1, t2), Pair(w2, t1)):\n",
    "                if np.random.rand() < percent:\n",
    "                    continue\n",
    "            H1 = H2\n",
    "            match[t1.id] = w2\n",
    "            match[t2.id] = w1\n",
    "        elif rand() < np.exp(-beta * (H2-H1)):\n",
    "            H1 = H2\n",
    "            match[t1.id] = w2\n",
    "            match[t2.id] = w1\n",
    "    \n",
    "    endtime = datetime.datetime.now()\n",
    "    time_cost = endtime - starttime\n",
    "    print (str(number) + \"个人和车的模拟数据集，使用\" + str(step) + \"步退火消耗总时间：\" + str(time_cost) + \"，退火后总距离为：\" + str(H1) + \"，优化比例为：\" + \"{:.2%}\".format(H1 / dis_sum_start))\n",
    "    return H1,str(time_cost)\n",
    "def anneal2(number, match, tasks, chain, dist_sum_first):\n",
    "    starttime = datetime.datetime.now()\n",
    "    dis_sum_start = dist_sum_first\n",
    "    n=len(chain)\n",
    "    for m in range(len(chain) - 2):\n",
    "        m1, m2, m3 = chain[m], chain[m + 1], chain[m + 2]\n",
    "        t1, t2, t3 = tasks[m1], tasks[m2], tasks[m3]\n",
    "        w1, w2, w3 = match[m1], match[m2], match[m3]\n",
    "        l0 = dist(w1, t1) + dist(w2, t2) + dist(w3, t3)\n",
    "        l12 = dist(w1, t2) + dist(w2, t1) + dist(w3, t3)\n",
    "        l13 = dist(w1, t3) + dist(w2, t2) + dist(w3, t1)\n",
    "        l23 = dist(w1, t1) + dist(w2, t3) + dist(w3, t2)\n",
    "        l_min = min(l0, l12, l13, l23)\n",
    "        \n",
    "        if l_min == l0:\n",
    "            continue\n",
    "        elif l_min == l12:\n",
    "            match[m1] = w2\n",
    "            match[m2] = w1\n",
    "            dist_sum_first = dist_sum_first - l0 + l12\n",
    "            n-=1\n",
    "        elif l_min == l13:\n",
    "            match[m1] = w3\n",
    "            match[m3] = w1\n",
    "            dist_sum_first = dist_sum_first - l0 + l13\n",
    "            n -= 1\n",
    "        elif l_min == l23:\n",
    "            match[m3] = w2\n",
    "            match[m2] = w3\n",
    "            dist_sum_first = dist_sum_first - l0 + l23\n",
    "            n -= 1\n",
    "    endtime = datetime.datetime.now()\n",
    "    time_cost = endtime - starttime\n",
    "\n",
    "    print(str(number) + \"个人和车的模拟数据集，使用\" + str(len(chain) - 2) + \"步退火消耗总时间：\" + str(time_cost) + \"，退火后总距离为：\" + str(\n",
    "        dist_sum_first) + \"，优化比例为：\" + \"{:.2%}\".format(1-dist_sum_first / dis_sum_start),\"，稳定比例为：\" + \"{:.2%}\".format(n/len(chain)))\n",
    "    return time_cost, dist_sum_first,round(1-dist_sum_first / dis_sum_start,2),round(n/len(chain),2)"
   ]
  },
  {
   "cell_type": "code",
   "execution_count": 29,
   "id": "aea72c6d",
   "metadata": {},
   "outputs": [],
   "source": [
    "def load_dataset(number):\n",
    "    workers = []\n",
    "    tasks = []\n",
    "    idx = 0\n",
    "    with open(\"worker_\" + str(number) + \".txt\", \"r\") as f:\n",
    "        while True:\n",
    "            try:\n",
    "                line = f.readline().split()\n",
    "                w = Worker(idx, float(line[0]), float(line[1]))\n",
    "                workers.append(w)\n",
    "                idx += 1\n",
    "            except:\n",
    "                break\n",
    "    idx = 0\n",
    "    with open(\"task_\" + str(number) + \".txt\", \"r\") as f:\n",
    "        while True:\n",
    "            try:\n",
    "                line = f.readline().split()\n",
    "                t = Task(idx, float(line[0]), float(line[1]), float(line[2]))\n",
    "                tasks.append(t)\n",
    "                idx += 1\n",
    "            except:\n",
    "                break\n",
    "    return tasks, workers"
   ]
  },
  {
   "cell_type": "code",
   "execution_count": null,
   "id": "6afffc4f",
   "metadata": {},
   "outputs": [],
   "source": []
  },
  {
   "cell_type": "code",
   "execution_count": 30,
   "id": "f79c4243",
   "metadata": {
    "scrolled": false
   },
   "outputs": [
    {
     "name": "stderr",
     "output_type": "stream",
     "text": [
      "100%|████████████████████████████████████████████████████████████████████████████| 1000/1000 [00:00<00:00, 3012.99it/s]\n"
     ]
    },
    {
     "name": "stdout",
     "output_type": "stream",
     "text": [
      "1000个人和车的模拟数据集，传统双层循环配对消耗总时间：0:00:00.333846，总距离为：27639.308844782834\n"
     ]
    },
    {
     "name": "stderr",
     "output_type": "stream",
     "text": [
      "100%|█████████████████████████████████████████████████████████████████████| 1000000/1000000 [00:10<00:00, 97538.81it/s]\n"
     ]
    },
    {
     "name": "stdout",
     "output_type": "stream",
     "text": [
      "1000个人和车的模拟数据集，使用1000000步退火消耗总时间：0:00:10.253326，退火后总距离为：20869.264271157634，优化比例为：75.51%\n"
     ]
    },
    {
     "name": "stderr",
     "output_type": "stream",
     "text": [
      "100%|█████████████████████████████████████████████████████████████████████████████| 1000/1000 [00:01<00:00, 942.99it/s]"
     ]
    },
    {
     "name": "stdout",
     "output_type": "stream",
     "text": [
      "退火后不稳定个数是：452\n"
     ]
    },
    {
     "name": "stderr",
     "output_type": "stream",
     "text": [
      "\n"
     ]
    }
   ],
   "source": [
    "\n",
    "number=1000\n",
    "percent=0.95\n",
    "tasks, workers = load_dataset(number)\n",
    "    #zero-based，方便空间换时间索引\n",
    "workers_stable = deepcopy(workers)\n",
    "tasks_stable = deepcopy(tasks)\n",
    "workers_sc = deepcopy(workers)\n",
    "tasks_sc = deepcopy(tasks)\n",
    "match_result_1, dist_sum_1, time_cost_1 = basic(number, workers, tasks)\n",
    "# cnt = count_unstable(match_result_2, tasks_stable, workers_stable)\n",
    "# print(\"退火前不稳定个数是：\" + str(cnt))\n",
    "anneal(number, match_result_1, workers_stable, tasks_stable, dist_sum_1)\n",
    "#退火后再计算下不稳定个数\n",
    "cnt = count_unstable(match_result_1, tasks_stable, workers_stable)\n",
    "print(\"退火后不稳定个数是：\" + str(cnt))"
   ]
  },
  {
   "cell_type": "code",
   "execution_count": 31,
   "id": "2e7f179e",
   "metadata": {},
   "outputs": [
    {
     "name": "stdout",
     "output_type": "stream",
     "text": [
      "0.5813698813172946\n"
     ]
    }
   ],
   "source": [
    "print(np.random.rand())"
   ]
  },
  {
   "cell_type": "code",
   "execution_count": 32,
   "id": "a409c2fa",
   "metadata": {
    "scrolled": true
   },
   "outputs": [
    {
     "ename": "NameError",
     "evalue": "name 'match_result_2' is not defined",
     "output_type": "error",
     "traceback": [
      "\u001b[1;31m---------------------------------------------------------------------------\u001b[0m",
      "\u001b[1;31mNameError\u001b[0m                                 Traceback (most recent call last)",
      "\u001b[1;32m<ipython-input-32-a42fd26ac607>\u001b[0m in \u001b[0;36m<module>\u001b[1;34m\u001b[0m\n\u001b[0;32m      1\u001b[0m \u001b[0md\u001b[0m\u001b[1;33m=\u001b[0m\u001b[1;36m0\u001b[0m\u001b[1;33m\u001b[0m\u001b[1;33m\u001b[0m\u001b[0m\n\u001b[0;32m      2\u001b[0m \u001b[1;32mfor\u001b[0m \u001b[0mi\u001b[0m \u001b[1;32min\u001b[0m \u001b[0mtasks\u001b[0m\u001b[1;33m:\u001b[0m\u001b[1;33m\u001b[0m\u001b[1;33m\u001b[0m\u001b[0m\n\u001b[1;32m----> 3\u001b[1;33m     \u001b[0md\u001b[0m\u001b[1;33m+=\u001b[0m\u001b[0mdist\u001b[0m\u001b[1;33m(\u001b[0m\u001b[0mi\u001b[0m\u001b[1;33m,\u001b[0m\u001b[0mmatch_result_2\u001b[0m\u001b[1;33m[\u001b[0m\u001b[0mi\u001b[0m\u001b[1;33m.\u001b[0m\u001b[0mid\u001b[0m\u001b[1;33m]\u001b[0m\u001b[1;33m)\u001b[0m\u001b[1;33m\u001b[0m\u001b[1;33m\u001b[0m\u001b[0m\n\u001b[0m\u001b[0;32m      4\u001b[0m \u001b[0mprint\u001b[0m\u001b[1;33m(\u001b[0m\u001b[0md\u001b[0m\u001b[1;33m)\u001b[0m\u001b[1;33m\u001b[0m\u001b[1;33m\u001b[0m\u001b[0m\n",
      "\u001b[1;31mNameError\u001b[0m: name 'match_result_2' is not defined"
     ]
    }
   ],
   "source": [
    "d=0\n",
    "for i in tasks:\n",
    "    d+=dist(i,match_result_2[i.id])\n",
    "print(d)"
   ]
  },
  {
   "cell_type": "code",
   "execution_count": null,
   "id": "26a4f611",
   "metadata": {},
   "outputs": [],
   "source": [
    "m=chain[0]\n"
   ]
  },
  {
   "cell_type": "code",
   "execution_count": 36,
   "id": "93720f27",
   "metadata": {
    "scrolled": false
   },
   "outputs": [
    {
     "name": "stderr",
     "output_type": "stream",
     "text": [
      "100%|██████████████████████████████████████████████████████████████████████████████| 500/500 [00:00<00:00, 5833.18it/s]\n"
     ]
    },
    {
     "name": "stdout",
     "output_type": "stream",
     "text": [
      "500个人和车的模拟数据集，传统双层循环配对消耗总时间：0:00:00.088285，总距离为：14908.450051136992\n"
     ]
    },
    {
     "name": "stderr",
     "output_type": "stream",
     "text": [
      "100%|█████████████████████████████████████████████████████████████████████| 1000000/1000000 [00:10<00:00, 97196.33it/s]\n"
     ]
    },
    {
     "name": "stdout",
     "output_type": "stream",
     "text": [
      "500个人和车的模拟数据集，使用1000000步退火消耗总时间：0:00:10.290443，退火后总距离为：11532.261820903965，优化比例为：77.35%\n"
     ]
    },
    {
     "name": "stderr",
     "output_type": "stream",
     "text": [
      "100%|██████████████████████████████████████████████████████████████████████████████| 500/500 [00:00<00:00, 1992.49it/s]\n"
     ]
    },
    {
     "name": "stdout",
     "output_type": "stream",
     "text": [
      "退火后不稳定个数是：182\n"
     ]
    },
    {
     "name": "stderr",
     "output_type": "stream",
     "text": [
      "100%|████████████████████████████████████████████████████████████████████████████| 1000/1000 [00:00<00:00, 3003.24it/s]\n"
     ]
    },
    {
     "name": "stdout",
     "output_type": "stream",
     "text": [
      "1000个人和车的模拟数据集，传统双层循环配对消耗总时间：0:00:00.334002，总距离为：27639.308844782834\n"
     ]
    },
    {
     "name": "stderr",
     "output_type": "stream",
     "text": [
      "100%|████████████████████████████████████████████████████████████████████| 1000000/1000000 [00:09<00:00, 100521.20it/s]\n"
     ]
    },
    {
     "name": "stdout",
     "output_type": "stream",
     "text": [
      "1000个人和车的模拟数据集，使用1000000步退火消耗总时间：0:00:09.964663，退火后总距离为：20705.18423045523，优化比例为：74.91%\n"
     ]
    },
    {
     "name": "stderr",
     "output_type": "stream",
     "text": [
      "100%|████████████████████████████████████████████████████████████████████████████| 1000/1000 [00:00<00:00, 1182.28it/s]\n"
     ]
    },
    {
     "name": "stdout",
     "output_type": "stream",
     "text": [
      "退火后不稳定个数是：439\n"
     ]
    },
    {
     "name": "stderr",
     "output_type": "stream",
     "text": [
      "100%|████████████████████████████████████████████████████████████████████████████| 1500/1500 [00:00<00:00, 2062.28it/s]\n"
     ]
    },
    {
     "name": "stdout",
     "output_type": "stream",
     "text": [
      "1500个人和车的模拟数据集，传统双层循环配对消耗总时间：0:00:00.728354，总距离为：29761.519603806733\n"
     ]
    },
    {
     "name": "stderr",
     "output_type": "stream",
     "text": [
      "100%|█████████████████████████████████████████████████████████████████████| 1000000/1000000 [00:10<00:00, 96461.90it/s]\n"
     ]
    },
    {
     "name": "stdout",
     "output_type": "stream",
     "text": [
      "1500个人和车的模拟数据集，使用1000000步退火消耗总时间：0:00:10.368880，退火后总距离为：25411.913075570184，优化比例为：85.39%\n"
     ]
    },
    {
     "name": "stderr",
     "output_type": "stream",
     "text": [
      "100%|█████████████████████████████████████████████████████████████████████████████| 1500/1500 [00:02<00:00, 727.21it/s]\n"
     ]
    },
    {
     "name": "stdout",
     "output_type": "stream",
     "text": [
      "退火后不稳定个数是：591\n"
     ]
    },
    {
     "name": "stderr",
     "output_type": "stream",
     "text": [
      "100%|████████████████████████████████████████████████████████████████████████████| 2000/2000 [00:01<00:00, 1479.00it/s]\n"
     ]
    },
    {
     "name": "stdout",
     "output_type": "stream",
     "text": [
      "2000个人和车的模拟数据集，传统双层循环配对消耗总时间：0:00:01.354261，总距离为：37947.39428921872\n"
     ]
    },
    {
     "name": "stderr",
     "output_type": "stream",
     "text": [
      "100%|█████████████████████████████████████████████████████████████████████| 1000000/1000000 [00:10<00:00, 95967.28it/s]\n"
     ]
    },
    {
     "name": "stdout",
     "output_type": "stream",
     "text": [
      "2000个人和车的模拟数据集，使用1000000步退火消耗总时间：0:00:10.422145，退火后总距离为：33049.753714372666，优化比例为：87.09%\n"
     ]
    },
    {
     "name": "stderr",
     "output_type": "stream",
     "text": [
      "100%|█████████████████████████████████████████████████████████████████████████████| 2000/2000 [00:03<00:00, 557.82it/s]\n"
     ]
    },
    {
     "name": "stdout",
     "output_type": "stream",
     "text": [
      "退火后不稳定个数是：760\n"
     ]
    },
    {
     "name": "stderr",
     "output_type": "stream",
     "text": [
      "100%|████████████████████████████████████████████████████████████████████████████| 2500/2500 [00:01<00:00, 1250.43it/s]\n"
     ]
    },
    {
     "name": "stdout",
     "output_type": "stream",
     "text": [
      "2500个人和车的模拟数据集，传统双层循环配对消耗总时间：0:00:02.002240，总距离为：51153.061137585486\n"
     ]
    },
    {
     "name": "stderr",
     "output_type": "stream",
     "text": [
      "100%|█████████████████████████████████████████████████████████████████████| 1000000/1000000 [00:10<00:00, 95593.74it/s]\n"
     ]
    },
    {
     "name": "stdout",
     "output_type": "stream",
     "text": [
      "2500个人和车的模拟数据集，使用1000000步退火消耗总时间：0:00:10.463925，退火后总距离为：44799.57642503273，优化比例为：87.58%\n"
     ]
    },
    {
     "name": "stderr",
     "output_type": "stream",
     "text": [
      "100%|█████████████████████████████████████████████████████████████████████████████| 2500/2500 [00:05<00:00, 474.01it/s]\n"
     ]
    },
    {
     "name": "stdout",
     "output_type": "stream",
     "text": [
      "退火后不稳定个数是：1067\n"
     ]
    },
    {
     "name": "stderr",
     "output_type": "stream",
     "text": [
      "100%|████████████████████████████████████████████████████████████████████████████| 3000/3000 [00:02<00:00, 1005.98it/s]\n"
     ]
    },
    {
     "name": "stdout",
     "output_type": "stream",
     "text": [
      "3000个人和车的模拟数据集，传统双层循环配对消耗总时间：0:00:02.983155，总距离为：55997.68279675415\n"
     ]
    },
    {
     "name": "stderr",
     "output_type": "stream",
     "text": [
      "100%|█████████████████████████████████████████████████████████████████████| 1000000/1000000 [00:10<00:00, 94362.04it/s]\n"
     ]
    },
    {
     "name": "stdout",
     "output_type": "stream",
     "text": [
      "3000个人和车的模拟数据集，使用1000000步退火消耗总时间：0:00:10.611049，退火后总距离为：50595.599162903316，优化比例为：90.35%\n"
     ]
    },
    {
     "name": "stderr",
     "output_type": "stream",
     "text": [
      "100%|█████████████████████████████████████████████████████████████████████████████| 3000/3000 [00:08<00:00, 365.08it/s]"
     ]
    },
    {
     "name": "stdout",
     "output_type": "stream",
     "text": [
      "退火后不稳定个数是：1168\n"
     ]
    },
    {
     "name": "stderr",
     "output_type": "stream",
     "text": [
      "\n"
     ]
    }
   ],
   "source": [
    "basic_dists = []\n",
    "\n",
    "anneal_dists = []\n",
    "basic_times = []\n",
    "\n",
    "anneal_times = []\n",
    "anneal_shorten=[]\n",
    "anneal_broken=[]\n",
    "cnt_lis=[]\n",
    "nums = [500,1000 ,1500 ,2000,2500,3000]\n",
    "#,8000,9000,10000,11000,12000,13000,14000,15000]\n",
    "for number in nums:\n",
    "    percent=0.95\n",
    "    global dis_cache\n",
    "    dis_cache =[[-1 for i in range(number)] for j in range(number)]\n",
    "    tasks, workers = load_dataset(number)\n",
    "    #zero-based，方便空间换时间索引\n",
    "    workers_stable = deepcopy(workers)\n",
    "    tasks_stable = deepcopy(tasks)\n",
    "    workers_sc = deepcopy(workers)\n",
    "    tasks_sc = deepcopy(tasks)\n",
    "    match_result_1, dist_sum_1, time_cost_1 = basic(number, workers, tasks)\n",
    "    basic_dists.append(dist_sum_1)\n",
    "    basic_times.append(time_cost_1[5:])\n",
    "    #基于chain出来的数据进行退火\n",
    "    dist_sum_2,time_cost_2=anneal(number, match_result_1, workers_stable, tasks_stable, dist_sum_1)\n",
    "    anneal_dists.append(dist_sum_2)\n",
    "    anneal_times.append(time_cost_2[5:])\n",
    "    #退火后再计算下不稳定个数\n",
    "    cnt = count_unstable(match_result_1, tasks_stable, workers_stable)\n",
    "    cnt_lis.append(cnt)\n",
    "    print(\"退火后不稳定个数是：\" + str(cnt))\n",
    "    \n",
    "#     anneal_times.append(time_cost_an.seconds)\n",
    "#     anneal_dists.append(dist_sum_an)\n",
    "#     anneal_shorten.append(shorten)\n",
    "#     anneal_broken.append(1-stable)\n",
    "# import numpy as np\n",
    "# plt.figure()\n",
    "# plt.plot(nums,basic_times)\n",
    "# plt.plot(nums,stable_chain_times)\n",
    "# plt.plot(nums,np.array(anneal_times)+np.array(stable_chain_times))\n",
    "# plt.legend(['basic','stable-chain','anneal'])\n",
    "# plt.title(\"basic & stable-chain time comparation\")\n",
    "# plt.savefig(\"result1.png\")\n",
    "# plt.figure()\n",
    "# plt.plot(nums,basic_dists)\n",
    "# plt.plot(nums,stable_chain_dists)\n",
    "# plt.plot(nums,anneal_dists)\n",
    "# plt.legend(['basic','stable-chain','anneal'])\n",
    "# plt.title(\"basic & stable-chain distance comparation\")\n",
    "# plt.savefig(\"result2.png\")\n",
    "# plt.figure()\n",
    "# plt.plot(nums,anneal_shorten)\n",
    "# plt.plot(nums,anneal_broken)\n",
    "# plt.legend(['shorten','broken'])\n",
    "# plt.title(\"anneal comparation\")\n",
    "# plt.savefig(\"result3.png\")"
   ]
  },
  {
   "cell_type": "code",
   "execution_count": null,
   "id": "dd033187",
   "metadata": {},
   "outputs": [],
   "source": [
    "import pandas as pd\n",
    "import numpy as np\n",
    "df=pd.DataFrame({\"basic_dists\":basic_dists,\"basic_times\":basic_times,\"anneal_dists\":anneal_dists,\"anneal_times\":anneal_times,\"cnt\":cnt_lis})\n",
    "df.to_excel(\"data.xlsx\")"
   ]
  },
  {
   "cell_type": "code",
   "execution_count": 34,
   "id": "11c113a6",
   "metadata": {},
   "outputs": [
    {
     "name": "stdout",
     "output_type": "stream",
     "text": [
      "[]\n"
     ]
    }
   ],
   "source": [
    "print(anneal_times)"
   ]
  },
  {
   "cell_type": "code",
   "execution_count": 57,
   "id": "d4fd0308",
   "metadata": {},
   "outputs": [
    {
     "data": {
      "image/png": "[encoded data removed]",
      "text/plain": [
       "<Figure size 432x288 with 1 Axes>"
      ]
     },
     "metadata": {
      "needs_background": "light"
     },
     "output_type": "display_data"
    },
    {
     "data": {
      "image/png": "[encoded data removed]",
      "text/plain": [
       "<Figure size 432x288 with 1 Axes>"
      ]
     },
     "metadata": {
      "needs_background": "light"
     },
     "output_type": "display_data"
    }
   ],
   "source": [
    "an=[float(i) for i in anneal_times]\n",
    "ba=[float(i) for i in basic_times]\n",
    "import numpy as np\n",
    "import matplotlib.pyplot as plt\n",
    "plt.figure()\n",
    "y_tick = np.linspace(0,15,11)\n",
    "plt.yticks(y_tick)\n",
    "# plt.set_yticks(1.5*i for i in range(10))\n",
    "plt.plot(nums,basic_times,'-o')\n",
    "# plt.plot(nums,stable_chain_times)\n",
    "plt.plot(nums,np.array(an)+np.array(ba),'-^')\n",
    "\n",
    "\n",
    "plt.legend(['basic','anneal'])\n",
    "plt.title(\"basic & anneal time comparation\")\n",
    "plt.savefig(\"time_\"+str(percent)+\".png\")\n",
    "plt.figure()\n",
    "plt.plot(nums,basic_dists,'-o')\n",
    "# plt.plot(nums,stable_chain_dists)\n",
    "plt.plot(nums,anneal_dists,'-^')\n",
    "plt.legend(['basic','anneal'])\n",
    "plt.title(\"basic & anneal distance comparation\")\n",
    "plt.savefig(\"distance_\"+str(percent)+\".png\")\n",
    "# plt.figure()\n",
    "# plt.plot(nums,anneal_shorten)\n",
    "# plt.plot(nums,anneal_broken)\n",
    "# plt.legend(['shorten','broken'])\n",
    "# plt.title(\"anneal comparation\")\n",
    "# plt.savefig(\"result3.png\")"
   ]
  },
  {
   "cell_type": "code",
   "execution_count": 47,
   "id": "2eba9895",
   "metadata": {},
   "outputs": [
    {
     "data": {
      "image/png": "[encoded data removed]",
      "text/plain": [
       "<Figure size 432x288 with 1 Axes>"
      ]
     },
     "metadata": {
      "needs_background": "light"
     },
     "output_type": "display_data"
    }
   ],
   "source": [
    "y_tick = np.linspace(0,15,11)\n",
    "plt.yticks(y_tick)\n",
    "plt.plot(nums,np.array(an)+np.array(ba),'-^')\n",
    "plt.show()"
   ]
  },
  {
   "cell_type": "code",
   "execution_count": 55,
   "id": "b02ffc15",
   "metadata": {},
   "outputs": [
    {
     "name": "stdout",
     "output_type": "stream",
     "text": [
      "[0.088285, 0.334002, 0.728354, 1.354261, 2.00224, 2.983155]\n"
     ]
    }
   ],
   "source": [
    "print(ba)"
   ]
  },
  {
   "cell_type": "code",
   "execution_count": null,
   "id": "7c133db3",
   "metadata": {},
   "outputs": [],
   "source": []
  }
 ],
 "metadata": {
  "kernelspec": {
   "display_name": "Python 3",
   "language": "python",
   "name": "python3"
  },
  "language_info": {
   "codemirror_mode": {
    "name": "ipython",
    "version": 3
   },
   "file_extension": ".py",
   "mimetype": "text/x-python",
   "name": "python",
   "nbconvert_exporter": "python",
   "pygments_lexer": "ipython3",
   "version": "3.8.6"
  }
 },
 "nbformat": 4,
 "nbformat_minor": 5
}
